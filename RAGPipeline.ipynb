{
 "cells": [
  {
   "cell_type": "markdown",
   "id": "a5ab7833",
   "metadata": {},
   "source": [
    "# Retrieval Augmented Generation (RAG)"
   ]
  },
  {
   "cell_type": "markdown",
   "id": "d556ec91",
   "metadata": {},
   "source": [
    "## GPT Definition:\n",
    "\n",
    "Retrieval-Augmented Generation (RAG) is a technique that combines information retrieval with generative AI models to improve the accuracy and reliability of responses. Instead of relying only on the model’s pre-trained knowledge, RAG retrieves relevant documents or passages from an external knowledge base (such as a database or search index) and feeds them into the model as context. This way, the model can generate answers grounded in up-to-date or domain-specific information, reducing hallucinations and making outputs more factual and context-aware.\n",
    "\n",
    "## Basic RAG Pipeline  \n",
    "\n",
    "### **Preprocessing (Building the Knowledge Base):**  \n",
    "1. Collect a set of relevant documents.  \n",
    "2. Split documents into smaller, semantically meaningful **chunks** (e.g., paragraphs or sections).  \n",
    "3. Choose an appropriate **embedding model**.  \n",
    "4. Convert each chunk into a vector representation (**embedding**).  \n",
    "5. Store the **(embedding, text-chunk)** pairs for future usage.  \n",
    "\n",
    "### **Retrieving & Generating (Answering Queries):**  \n",
    "1. Receive a user query.  \n",
    "2. Embed the query using the same embedding model.  \n",
    "3. Perform a **similarity search** between the query embedding and the stored chunk embeddings.  \n",
    "4. Select the most relevant chunks based on similarity scores.  \n",
    "5. Construct a prompt by inserting these retrieved chunks alongside the query.  \n",
    "6. Send the prompt to a **Large Language Model (LLM)** to generate the final response."
   ]
  },
  {
   "cell_type": "markdown",
   "id": "72bc7d1d",
   "metadata": {},
   "source": [
    "# Basic and necessary imports and definitions"
   ]
  },
  {
   "cell_type": "code",
   "execution_count": 1,
   "id": "1b24b6fd",
   "metadata": {},
   "outputs": [
    {
     "name": "stdout",
     "output_type": "stream",
     "text": [
      "Using device: mps\n"
     ]
    }
   ],
   "source": [
    "import os\n",
    "import requests\n",
    "import random\n",
    "from tqdm import tqdm\n",
    "import re\n",
    "import torch\n",
    "from dotenv import load_dotenv\n",
    "\n",
    "load_dotenv()\n",
    "HF_TOKEN = os.getenv(\"HF_TOKEN\")\n",
    "\n",
    "LLM_MODEL_ID = \"google/gemma-2-2b-it\" # https://ai.google.dev/gemma/docs/core/model_card_2 https://huggingface.co/google/gemma-2-2b-it\n",
    "EMBEDDING_MODEL = \"BAAI/bge-m3\" # https://bge-model.com/bge/bge_m3.html https://huggingface.co/BAAI/bge-m3\n",
    "\n",
    "FILE_PATH = os.path.join(\"data\", \"manual-safebank.pdf\")\n",
    "EMBEDDING_PATH = os.path.join(\"data\", \"embeddings.csv\")\n",
    "\n",
    "# Select the most appropriate device for model inference\n",
    "# Options: \"cpu\", \"cuda\" (NVIDIA GPUs), \"mps\" (Apple Silicon GPUs)\n",
    "DEVICE = \"cpu\"\n",
    "DEVICE = \"mps\" if torch.backends.mps.is_available() else DEVICE\n",
    "DEVICE = \"cuda\" if torch.cuda.is_available() else DEVICE\n",
    "\n",
    "print(f\"Using device: {DEVICE}\")"
   ]
  },
  {
   "cell_type": "markdown",
   "id": "bd8b7a8b",
   "metadata": {},
   "source": [
    "# Preprocessing"
   ]
  },
  {
   "cell_type": "markdown",
   "id": "64910511",
   "metadata": {},
   "source": [
    "## Loading PDF"
   ]
  },
  {
   "cell_type": "markdown",
   "id": "6ddfb743",
   "metadata": {},
   "source": [
    "For simplicity, only **PDF files** will be considered."
   ]
  },
  {
   "cell_type": "code",
   "execution_count": 2,
   "id": "c0c574f1",
   "metadata": {},
   "outputs": [],
   "source": [
    "assert os.path.exists(FILE_PATH), f\"File '{FILE_PATH}' does not exist.\""
   ]
  },
  {
   "cell_type": "code",
   "execution_count": 3,
   "id": "effdc742",
   "metadata": {},
   "outputs": [],
   "source": [
    "import pymupdf # https://pymupdf.readthedocs.io/en/latest/the-basics.html\n",
    "\n",
    "def text_formatter(text: str) -> str:\n",
    "    \"\"\"\"\n",
    "    Simple text formatter to remove new lines and extra spaces.\n",
    "    \"\"\"\n",
    "    return text.replace(\"\\n\", \" \").strip()\n",
    "\n",
    "def load_pdfs_files(file_path: str) -> list:\n",
    "    pages = list()\n",
    "\n",
    "    if file_path.endswith(\".pdf\"): # Process only PDF files\n",
    "        doc = pymupdf.open(file_path)\n",
    "        for page in doc: # Loop through each page in the PDF\n",
    "            text = text_formatter(page.get_text())\n",
    "            _dict = {\n",
    "                \"page_char_count\": len(text),\n",
    "                \"page_word_count\": len(text.split(\" \")),\n",
    "                \"page_token_count\": len(text) / 4,  # Rough estimate -> 1 token ~= 4 chars\n",
    "                \"text\": text,\n",
    "            }\n",
    "            pages.append(_dict)\n",
    "    else:\n",
    "        print(f\"Skipping non-PDF file: '{file_path}'\")\n",
    "        return None\n",
    "            \n",
    "    return pages"
   ]
  },
  {
   "cell_type": "code",
   "execution_count": 4,
   "id": "7ecd91c7",
   "metadata": {},
   "outputs": [
    {
     "name": "stdout",
     "output_type": "stream",
     "text": [
      "Total pages extracted: 11\n"
     ]
    },
    {
     "data": {
      "text/plain": [
       "{'page_char_count': 1668,\n",
       " 'page_word_count': 297,\n",
       " 'page_token_count': 417.0,\n",
       " 'text': 'Manual de Atendimento e Uso – SafeBank    1. Introdução  Objetivo do Manual   Este manual tem como objetivo orientar clientes e atendentes sobre o funcionamento  completo do banco digital, abordando desde o acesso à conta, funcionalidades e serviços,  até procedimentos de segurança, suporte e resolução de problemas. O documento também  serve como material de consulta para dúvidas frequentes.  Visão geral do banco digital   Nosso banco digital oferece serviços bancários completos de forma 100% online, por meio  do aplicativo e do site. Entre os principais serviços estão conta digital gratuita,  transferências via Pix, pagamento de boletos, emissão de cartões, investimentos, seguros e  muito mais, sempre com foco em praticidade, segurança e transparência.  Público-alvo   O banco digital é voltado para pessoas físicas a partir de 18 anos, que buscam soluções  financeiras modernas, acessíveis e com gestão 100% digital.     2. Cadastro e Abertura de Conta  Requisitos para abertura de conta  ●\\u200b Ser maior de 18 anos  ●\\u200b Ter documento oficial com foto (RG, CNH ou RNE)  ●\\u200b Possuir um smartphone com câmera  ●\\u200b Endereço residencial   Etapas do processo de cadastro  1.\\u200b Baixe o aplicativo ou acesse o site oficial  2.\\u200b Informe dados pessoais (nome, CPF, e-mail, telefone)  3.\\u200b Envie foto de documento oficial com foto  4.\\u200b Grave um vídeo de reconhecimento facial  5.\\u200b Confirme seu endereço e aceite os termos de uso  Verificação de identidade (KYC)   O processo de KYC (Know Your Customer) é obrigatório para prevenir fraudes e garantir a  segurança de todos os usuários. Após o envio dos documentos, nossa equipe faz a  validação automática e manual dos dados.'}"
      ]
     },
     "execution_count": 4,
     "metadata": {},
     "output_type": "execute_result"
    }
   ],
   "source": [
    "pages = load_pdfs_files(FILE_PATH)\n",
    "print(f\"Total pages extracted: {len(pages)}\")\n",
    "\n",
    "pages[0]"
   ]
  },
  {
   "cell_type": "code",
   "execution_count": 5,
   "id": "ac971d96",
   "metadata": {},
   "outputs": [
    {
     "data": {
      "text/html": [
       "<div>\n",
       "<style scoped>\n",
       "    .dataframe tbody tr th:only-of-type {\n",
       "        vertical-align: middle;\n",
       "    }\n",
       "\n",
       "    .dataframe tbody tr th {\n",
       "        vertical-align: top;\n",
       "    }\n",
       "\n",
       "    .dataframe thead th {\n",
       "        text-align: right;\n",
       "    }\n",
       "</style>\n",
       "<table border=\"1\" class=\"dataframe\">\n",
       "  <thead>\n",
       "    <tr style=\"text-align: right;\">\n",
       "      <th></th>\n",
       "      <th>page_char_count</th>\n",
       "      <th>page_word_count</th>\n",
       "      <th>page_token_count</th>\n",
       "    </tr>\n",
       "  </thead>\n",
       "  <tbody>\n",
       "    <tr>\n",
       "      <th>count</th>\n",
       "      <td>11.0</td>\n",
       "      <td>11.0</td>\n",
       "      <td>11.0</td>\n",
       "    </tr>\n",
       "    <tr>\n",
       "      <th>mean</th>\n",
       "      <td>1759.1</td>\n",
       "      <td>302.1</td>\n",
       "      <td>439.8</td>\n",
       "    </tr>\n",
       "    <tr>\n",
       "      <th>std</th>\n",
       "      <td>216.4</td>\n",
       "      <td>35.9</td>\n",
       "      <td>54.1</td>\n",
       "    </tr>\n",
       "    <tr>\n",
       "      <th>min</th>\n",
       "      <td>1427.0</td>\n",
       "      <td>242.0</td>\n",
       "      <td>356.8</td>\n",
       "    </tr>\n",
       "    <tr>\n",
       "      <th>25%</th>\n",
       "      <td>1621.0</td>\n",
       "      <td>275.0</td>\n",
       "      <td>405.2</td>\n",
       "    </tr>\n",
       "    <tr>\n",
       "      <th>50%</th>\n",
       "      <td>1689.0</td>\n",
       "      <td>307.0</td>\n",
       "      <td>422.2</td>\n",
       "    </tr>\n",
       "    <tr>\n",
       "      <th>75%</th>\n",
       "      <td>1918.0</td>\n",
       "      <td>328.0</td>\n",
       "      <td>479.5</td>\n",
       "    </tr>\n",
       "    <tr>\n",
       "      <th>max</th>\n",
       "      <td>2120.0</td>\n",
       "      <td>357.0</td>\n",
       "      <td>530.0</td>\n",
       "    </tr>\n",
       "  </tbody>\n",
       "</table>\n",
       "</div>"
      ],
      "text/plain": [
       "       page_char_count  page_word_count  page_token_count\n",
       "count             11.0             11.0              11.0\n",
       "mean            1759.1            302.1             439.8\n",
       "std              216.4             35.9              54.1\n",
       "min             1427.0            242.0             356.8\n",
       "25%             1621.0            275.0             405.2\n",
       "50%             1689.0            307.0             422.2\n",
       "75%             1918.0            328.0             479.5\n",
       "max             2120.0            357.0             530.0"
      ]
     },
     "execution_count": 5,
     "metadata": {},
     "output_type": "execute_result"
    }
   ],
   "source": [
    "import pandas as pd\n",
    "\n",
    "df = pd.DataFrame(pages)\n",
    "df.describe().round(1)"
   ]
  },
  {
   "cell_type": "markdown",
   "id": "7e4403db",
   "metadata": {},
   "source": [
    "## Text splitting"
   ]
  },
  {
   "cell_type": "markdown",
   "id": "a2b6b98a",
   "metadata": {},
   "source": [
    "Texts will be split into sentences and filtered to remove chunks shorter than a minimum token length threshold."
   ]
  },
  {
   "cell_type": "code",
   "execution_count": 6,
   "id": "c9eab2a7",
   "metadata": {},
   "outputs": [
    {
     "name": "stdout",
     "output_type": "stream",
     "text": [
      "Number of sentences: 3\n",
      "- Primeira frase.\n",
      "- Outra frase?!\n",
      "- Terceirta frase!\n"
     ]
    }
   ],
   "source": [
    "from spacy.lang.pt import Portuguese\n",
    "\n",
    "nlp = Portuguese()\n",
    "nlp.add_pipe(\"sentencizer\")\n",
    "\n",
    "doc = nlp(\"Primeira frase. Outra frase?! Terceirta frase!\")\n",
    "print(f\"Number of sentences: {len(list(doc.sents))}\")\n",
    "for sent in doc.sents:\n",
    "    print(f\"- {sent.text}\")"
   ]
  },
  {
   "cell_type": "code",
   "execution_count": 7,
   "id": "bf3b6f95",
   "metadata": {},
   "outputs": [
    {
     "data": {
      "text/plain": [
       "{'page_char_count': 1668,\n",
       " 'page_word_count': 297,\n",
       " 'page_token_count': 417.0,\n",
       " 'text': 'Manual de Atendimento e Uso – SafeBank    1. Introdução  Objetivo do Manual   Este manual tem como objetivo orientar clientes e atendentes sobre o funcionamento  completo do banco digital, abordando desde o acesso à conta, funcionalidades e serviços,  até procedimentos de segurança, suporte e resolução de problemas. O documento também  serve como material de consulta para dúvidas frequentes.  Visão geral do banco digital   Nosso banco digital oferece serviços bancários completos de forma 100% online, por meio  do aplicativo e do site. Entre os principais serviços estão conta digital gratuita,  transferências via Pix, pagamento de boletos, emissão de cartões, investimentos, seguros e  muito mais, sempre com foco em praticidade, segurança e transparência.  Público-alvo   O banco digital é voltado para pessoas físicas a partir de 18 anos, que buscam soluções  financeiras modernas, acessíveis e com gestão 100% digital.     2. Cadastro e Abertura de Conta  Requisitos para abertura de conta  ●\\u200b Ser maior de 18 anos  ●\\u200b Ter documento oficial com foto (RG, CNH ou RNE)  ●\\u200b Possuir um smartphone com câmera  ●\\u200b Endereço residencial   Etapas do processo de cadastro  1.\\u200b Baixe o aplicativo ou acesse o site oficial  2.\\u200b Informe dados pessoais (nome, CPF, e-mail, telefone)  3.\\u200b Envie foto de documento oficial com foto  4.\\u200b Grave um vídeo de reconhecimento facial  5.\\u200b Confirme seu endereço e aceite os termos de uso  Verificação de identidade (KYC)   O processo de KYC (Know Your Customer) é obrigatório para prevenir fraudes e garantir a  segurança de todos os usuários. Após o envio dos documentos, nossa equipe faz a  validação automática e manual dos dados.',\n",
       " 'sentences': ['Manual de Atendimento e Uso – SafeBank    1.',\n",
       "  'Introdução  Objetivo do Manual   Este manual tem como objetivo orientar clientes e atendentes sobre o funcionamento  completo do banco digital, abordando desde o acesso à conta, funcionalidades e serviços,  até procedimentos de segurança, suporte e resolução de problemas.',\n",
       "  'O documento também  serve como material de consulta para dúvidas frequentes.',\n",
       "  'Visão geral do banco digital   Nosso banco digital oferece serviços bancários completos de forma 100% online, por meio  do aplicativo e do site.',\n",
       "  'Entre os principais serviços estão conta digital gratuita,  transferências via Pix, pagamento de boletos, emissão de cartões, investimentos, seguros e  muito mais, sempre com foco em praticidade, segurança e transparência.',\n",
       "  'Público-alvo   O banco digital é voltado para pessoas físicas a partir de 18 anos, que buscam soluções  financeiras modernas, acessíveis e com gestão 100% digital.',\n",
       "  '2.',\n",
       "  'Cadastro e Abertura de Conta  Requisitos para abertura de conta  ●\\u200b Ser maior de 18 anos  ●\\u200b Ter documento oficial com foto (RG, CNH ou RNE)  ●\\u200b Possuir um smartphone com câmera  ●\\u200b Endereço residencial   Etapas do processo de cadastro  1.\\u200b Baixe o aplicativo ou acesse o site oficial  2.\\u200b Informe dados pessoais (nome, CPF, e-mail, telefone)  3.\\u200b Envie foto de documento oficial com foto  4.\\u200b Grave um vídeo de reconhecimento facial  5.\\u200b Confirme seu endereço e aceite os termos de uso  Verificação de identidade (KYC)   O processo de KYC (Know Your Customer) é obrigatório para prevenir fraudes e garantir a  segurança de todos os usuários.',\n",
       "  'Após o envio dos documentos, nossa equipe faz a  validação automática e manual dos dados.'],\n",
       " 'sentence_count': 9}"
      ]
     },
     "execution_count": 7,
     "metadata": {},
     "output_type": "execute_result"
    }
   ],
   "source": [
    "for pag in pages:\n",
    "    doc = nlp(pag[\"text\"])\n",
    "    pag[\"sentences\"] = [str(sent.text).strip() for sent in doc.sents]\n",
    "    pag[\"sentence_count\"] = len(pag[\"sentences\"])\n",
    "\n",
    "pages[0]"
   ]
  },
  {
   "cell_type": "code",
   "execution_count": 8,
   "id": "befb2cca",
   "metadata": {},
   "outputs": [
    {
     "data": {
      "text/html": [
       "<div>\n",
       "<style scoped>\n",
       "    .dataframe tbody tr th:only-of-type {\n",
       "        vertical-align: middle;\n",
       "    }\n",
       "\n",
       "    .dataframe tbody tr th {\n",
       "        vertical-align: top;\n",
       "    }\n",
       "\n",
       "    .dataframe thead th {\n",
       "        text-align: right;\n",
       "    }\n",
       "</style>\n",
       "<table border=\"1\" class=\"dataframe\">\n",
       "  <thead>\n",
       "    <tr style=\"text-align: right;\">\n",
       "      <th></th>\n",
       "      <th>page_char_count</th>\n",
       "      <th>page_word_count</th>\n",
       "      <th>page_token_count</th>\n",
       "      <th>sentence_count</th>\n",
       "    </tr>\n",
       "  </thead>\n",
       "  <tbody>\n",
       "    <tr>\n",
       "      <th>count</th>\n",
       "      <td>11.0</td>\n",
       "      <td>11.0</td>\n",
       "      <td>11.0</td>\n",
       "      <td>11.0</td>\n",
       "    </tr>\n",
       "    <tr>\n",
       "      <th>mean</th>\n",
       "      <td>1759.1</td>\n",
       "      <td>302.1</td>\n",
       "      <td>439.8</td>\n",
       "      <td>17.0</td>\n",
       "    </tr>\n",
       "    <tr>\n",
       "      <th>std</th>\n",
       "      <td>216.4</td>\n",
       "      <td>35.9</td>\n",
       "      <td>54.1</td>\n",
       "      <td>4.6</td>\n",
       "    </tr>\n",
       "    <tr>\n",
       "      <th>min</th>\n",
       "      <td>1427.0</td>\n",
       "      <td>242.0</td>\n",
       "      <td>356.8</td>\n",
       "      <td>9.0</td>\n",
       "    </tr>\n",
       "    <tr>\n",
       "      <th>25%</th>\n",
       "      <td>1621.0</td>\n",
       "      <td>275.0</td>\n",
       "      <td>405.2</td>\n",
       "      <td>13.5</td>\n",
       "    </tr>\n",
       "    <tr>\n",
       "      <th>50%</th>\n",
       "      <td>1689.0</td>\n",
       "      <td>307.0</td>\n",
       "      <td>422.2</td>\n",
       "      <td>19.0</td>\n",
       "    </tr>\n",
       "    <tr>\n",
       "      <th>75%</th>\n",
       "      <td>1918.0</td>\n",
       "      <td>328.0</td>\n",
       "      <td>479.5</td>\n",
       "      <td>20.5</td>\n",
       "    </tr>\n",
       "    <tr>\n",
       "      <th>max</th>\n",
       "      <td>2120.0</td>\n",
       "      <td>357.0</td>\n",
       "      <td>530.0</td>\n",
       "      <td>23.0</td>\n",
       "    </tr>\n",
       "  </tbody>\n",
       "</table>\n",
       "</div>"
      ],
      "text/plain": [
       "       page_char_count  page_word_count  page_token_count  sentence_count\n",
       "count             11.0             11.0              11.0            11.0\n",
       "mean            1759.1            302.1             439.8            17.0\n",
       "std              216.4             35.9              54.1             4.6\n",
       "min             1427.0            242.0             356.8             9.0\n",
       "25%             1621.0            275.0             405.2            13.5\n",
       "50%             1689.0            307.0             422.2            19.0\n",
       "75%             1918.0            328.0             479.5            20.5\n",
       "max             2120.0            357.0             530.0            23.0"
      ]
     },
     "execution_count": 8,
     "metadata": {},
     "output_type": "execute_result"
    }
   ],
   "source": [
    "import pandas as pd\n",
    "\n",
    "df = pd.DataFrame(pages)\n",
    "df.describe().round(1)"
   ]
  },
  {
   "cell_type": "code",
   "execution_count": 9,
   "id": "e5c35c77",
   "metadata": {},
   "outputs": [],
   "source": [
    "def split_into_chunks(sentences: list[str], num_sentences_per_chunk: int, sentences_overlapping: int) -> list[list[str]]:\n",
    "    return [sentences[i:i + num_sentences_per_chunk + sentences_overlapping] for i in range(0, len(sentences), num_sentences_per_chunk)]"
   ]
  },
  {
   "cell_type": "code",
   "execution_count": 10,
   "id": "20c8a7ec",
   "metadata": {},
   "outputs": [
    {
     "data": {
      "text/plain": [
       "[['Recursos exclusivos do app\\u200b  Alguns recursos estão disponíveis apenas no app, como saque por QR Code, notificações  push em tempo real, login por biometria e autenticação em dois fatores via aplicativo.',\n",
       "  'Permissões e notificações\\u200b  O app pode solicitar permissões como localização (para encontrar caixas) e acesso à  câmera (para leitura de QR Code).',\n",
       "  'Notificações podem ser gerenciadas nas configurações  do app e do sistema operacional.',\n",
       "  'Erros comuns e soluções\\u200b  Erros como “Falha na conexão” ou “Dados inválidos” costumam estar relacionados a  instabilidade de internet ou versões desatualizadas.',\n",
       "  'Recomenda-se verificar a conexão,  atualizar o app e reiniciar o dispositivo.',\n",
       "  '11.',\n",
       "  'Segurança da Conta  Autenticação em dois fatores (2FA)\\u200b  O banco digital oferece autenticação em dois fatores para proteger o acesso.'],\n",
       " ['11.',\n",
       "  'Segurança da Conta  Autenticação em dois fatores (2FA)\\u200b  O banco digital oferece autenticação em dois fatores para proteger o acesso.',\n",
       "  'Ao ativar o  recurso, além da senha, o usuário precisará inserir um código enviado por SMS, e-mail ou  gerado por aplicativo autenticador (como Google Authenticator).',\n",
       "  'Pode ser ativado nas  “Configurações de Segurança”.',\n",
       "  'Reconhecimento de dispositivo confiável\\u200b  A conta reconhece dispositivos previamente usados pelo usuário.',\n",
       "  'Ao acessar de um novo  dispositivo, será exigida uma verificação adicional.',\n",
       "  'O cliente pode consultar e remover  dispositivos autorizados no app ou site.'],\n",
       " ['Ao acessar de um novo  dispositivo, será exigida uma verificação adicional.',\n",
       "  'O cliente pode consultar e remover  dispositivos autorizados no app ou site.',\n",
       "  \"Alteração de senha\\u200b Para alterar uma senha no aplicativo, clique no menu 'Minha conta' e selecione 'Alterar  senha'.\",\n",
       "  \"Para alterar a senha pelo site, acesse 'Configurações' no menu do topo.\",\n",
       "  \"Em seguida,  selecione 'Minha conta' e 'Alterar senha'.\",\n",
       "  'O sistema exige a senha atual e, por segurança,  não permite reutilizar senhas anteriores recentes.',\n",
       "  'Recuperação de acesso\\u200b  Caso o usuário esqueça a senha ou login, pode clicar em “Esqueci minha senha” na tela  inicial.'],\n",
       " ['O sistema exige a senha atual e, por segurança,  não permite reutilizar senhas anteriores recentes.',\n",
       "  'Recuperação de acesso\\u200b  Caso o usuário esqueça a senha ou login, pode clicar em “Esqueci minha senha” na tela  inicial.',\n",
       "  'O sistema pedirá verificação de identidade por e-mail, SMS ou documento,  dependendo do nível de segurança definido.',\n",
       "  'Dicas de segurança digital  ●\\u200b Nunca compartilhe senhas ou códigos de verificação.\\u200b   ●\\u200b Evite usar redes Wi-Fi públicas para acessar o app.\\u200b']]"
      ]
     },
     "execution_count": 10,
     "metadata": {},
     "output_type": "execute_result"
    }
   ],
   "source": [
    "for pag in pages:\n",
    "    pag[\"chunks\"] = split_into_chunks(pag[\"sentences\"], num_sentences_per_chunk=5, sentences_overlapping=2)\n",
    "    pag[\"chunk_count\"] = len(pag[\"chunks\"])\n",
    "\n",
    "random.sample(pages, 1)[0][\"chunks\"]"
   ]
  },
  {
   "cell_type": "code",
   "execution_count": 11,
   "id": "7900b836",
   "metadata": {},
   "outputs": [
    {
     "data": {
      "text/plain": [
       "{'text': 'cai no mesmo dia, enquanto DOC pode levar até o dia útil seguinte. Já o Pix funciona 24h por dia, todos os dias da semana, com compensação instantânea. Cadastramento de chaves Pix\\u200b O usuário pode cadastrar suas chaves Pix (CPF, CNPJ, e-mail, número de celular ou chave aleatória) diretamente pelo app ou site. Basta acessar a área \"Pix\", clicar em “Minhas chaves” e seguir o passo a passo para registro, exclusão ou portabilidade. Transferência via QR Code\\u200b Transferências Pix podem ser feitas escaneando um QR Code gerado por outra pessoa ou estabelecimento. No app, basta acessar “Pix”, escolher “Pagar com QR Code” e apontar a câmera. O sistema preencherá automaticamente os dados da transação.',\n",
       " 'chunk_char_count': 697,\n",
       " 'chunk_word_count': 114,\n",
       " 'chunk_token_count': 174.25}"
      ]
     },
     "execution_count": 11,
     "metadata": {},
     "output_type": "execute_result"
    }
   ],
   "source": [
    "chunks = list()\n",
    "\n",
    "for pag in pages:\n",
    "    for chunk in pag[\"chunks\"]:\n",
    "        joined_text = \" \".join(chunk).replace(\"  \", \" \").strip() # Join sentences in the chunk\n",
    "        joined_text = re.sub(r'\\.([A-Z])', r'. \\1', joined_text) # \".A\" -> \". A\"\n",
    "\n",
    "        chunks.append({\n",
    "            \"text\": joined_text,\n",
    "            \"chunk_char_count\": len(joined_text),\n",
    "            \"chunk_word_count\": len(joined_text.split(\" \")),\n",
    "            \"chunk_token_count\": len(joined_text) / 4\n",
    "        })\n",
    "\n",
    "random.sample(chunks, 1)[0]"
   ]
  },
  {
   "cell_type": "code",
   "execution_count": 12,
   "id": "ab22687a",
   "metadata": {},
   "outputs": [
    {
     "data": {
      "text/html": [
       "<div>\n",
       "<style scoped>\n",
       "    .dataframe tbody tr th:only-of-type {\n",
       "        vertical-align: middle;\n",
       "    }\n",
       "\n",
       "    .dataframe tbody tr th {\n",
       "        vertical-align: top;\n",
       "    }\n",
       "\n",
       "    .dataframe thead th {\n",
       "        text-align: right;\n",
       "    }\n",
       "</style>\n",
       "<table border=\"1\" class=\"dataframe\">\n",
       "  <thead>\n",
       "    <tr style=\"text-align: right;\">\n",
       "      <th></th>\n",
       "      <th>chunk_char_count</th>\n",
       "      <th>chunk_word_count</th>\n",
       "      <th>chunk_token_count</th>\n",
       "    </tr>\n",
       "  </thead>\n",
       "  <tbody>\n",
       "    <tr>\n",
       "      <th>count</th>\n",
       "      <td>42.0</td>\n",
       "      <td>42.0</td>\n",
       "      <td>42.0</td>\n",
       "    </tr>\n",
       "    <tr>\n",
       "      <th>mean</th>\n",
       "      <td>568.0</td>\n",
       "      <td>88.3</td>\n",
       "      <td>142.0</td>\n",
       "    </tr>\n",
       "    <tr>\n",
       "      <th>std</th>\n",
       "      <td>223.9</td>\n",
       "      <td>35.2</td>\n",
       "      <td>56.0</td>\n",
       "    </tr>\n",
       "    <tr>\n",
       "      <th>min</th>\n",
       "      <td>70.0</td>\n",
       "      <td>11.0</td>\n",
       "      <td>17.5</td>\n",
       "    </tr>\n",
       "    <tr>\n",
       "      <th>25%</th>\n",
       "      <td>491.2</td>\n",
       "      <td>76.8</td>\n",
       "      <td>122.8</td>\n",
       "    </tr>\n",
       "    <tr>\n",
       "      <th>50%</th>\n",
       "      <td>580.0</td>\n",
       "      <td>89.5</td>\n",
       "      <td>145.0</td>\n",
       "    </tr>\n",
       "    <tr>\n",
       "      <th>75%</th>\n",
       "      <td>659.0</td>\n",
       "      <td>107.2</td>\n",
       "      <td>164.8</td>\n",
       "    </tr>\n",
       "    <tr>\n",
       "      <th>max</th>\n",
       "      <td>997.0</td>\n",
       "      <td>161.0</td>\n",
       "      <td>249.2</td>\n",
       "    </tr>\n",
       "  </tbody>\n",
       "</table>\n",
       "</div>"
      ],
      "text/plain": [
       "       chunk_char_count  chunk_word_count  chunk_token_count\n",
       "count              42.0              42.0               42.0\n",
       "mean              568.0              88.3              142.0\n",
       "std               223.9              35.2               56.0\n",
       "min                70.0              11.0               17.5\n",
       "25%               491.2              76.8              122.8\n",
       "50%               580.0              89.5              145.0\n",
       "75%               659.0             107.2              164.8\n",
       "max               997.0             161.0              249.2"
      ]
     },
     "execution_count": 12,
     "metadata": {},
     "output_type": "execute_result"
    }
   ],
   "source": [
    "df = pd.DataFrame(chunks)\n",
    "df.describe().round(1)"
   ]
  },
  {
   "cell_type": "code",
   "execution_count": 13,
   "id": "4419204e",
   "metadata": {},
   "outputs": [
    {
     "name": "stdout",
     "output_type": "stream",
     "text": [
      "Chunks with less than 25 tokens: 3\n"
     ]
    }
   ],
   "source": [
    "MIN_TOKENS_LENGTH = 25\n",
    "\n",
    "print(f\"Chunks with less than {MIN_TOKENS_LENGTH} tokens: {sum(df[\"chunk_token_count\"] < MIN_TOKENS_LENGTH)}\")"
   ]
  },
  {
   "cell_type": "code",
   "execution_count": 14,
   "id": "5d047e97",
   "metadata": {},
   "outputs": [],
   "source": [
    "def chunks_fitter(text_and_chunks, min_tokens_length=25):\n",
    "    \"\"\"\n",
    "    Join small chunks with the smaller one (previous or next)\n",
    "    \"\"\"\n",
    "    \n",
    "    new_text_and_chunks = list()\n",
    "    i = 0\n",
    "    while i < len(text_and_chunks):\n",
    "        current_chunk = text_and_chunks[i]\n",
    "        if current_chunk[\"chunk_token_count\"] < min_tokens_length:\n",
    "            \n",
    "            if i == 0: # first chunk, only merge with next\n",
    "                next_chunk = text_and_chunks[i + 1]\n",
    "                current_chunk[\"text\"] += \" \" + next_chunk[\"text\"]\n",
    "                current_chunk[\"chunk_char_count\"] = len(current_chunk[\"text\"])\n",
    "                current_chunk[\"chunk_word_count\"] = len(current_chunk[\"text\"].split(\" \"))\n",
    "                current_chunk[\"chunk_token_count\"] = len(current_chunk[\"text\"]) / 4\n",
    "                new_text_and_chunks.append(current_chunk)\n",
    "                i += 2 # skip the next chunk as it's already merged\n",
    "            \n",
    "            elif i == len(text_and_chunks) - 1: # last chunk, only merge with previous\n",
    "                prev_chunk = new_text_and_chunks[i - 1]\n",
    "                prev_chunk[\"text\"] += \" \" + current_chunk[\"text\"]\n",
    "                prev_chunk[\"chunk_char_count\"] = len(prev_chunk[\"text\"])\n",
    "                prev_chunk[\"chunk_word_count\"] = len(prev_chunk[\"text\"].split(\" \"))\n",
    "                prev_chunk[\"chunk_token_count\"] = len(prev_chunk[\"text\"]) / 4\n",
    "                i += 1\n",
    "            \n",
    "            else: # middle chunk, merge with the smaller of previous or next\n",
    "                prev_chunk = new_text_and_chunks[-1]\n",
    "                next_chunk = text_and_chunks[i + 1]\n",
    "                if prev_chunk[\"chunk_token_count\"] <= next_chunk[\"chunk_token_count\"]:\n",
    "                    prev_chunk[\"text\"] += \" \" + current_chunk[\"text\"]\n",
    "                    prev_chunk[\"chunk_char_count\"] = len(prev_chunk[\"text\"])\n",
    "                    prev_chunk[\"chunk_word_count\"] = len(prev_chunk[\"text\"].split(\" \"))\n",
    "                    prev_chunk[\"chunk_token_count\"] = len(prev_chunk[\"text\"]) / 4\n",
    "                    i += 1\n",
    "                else:\n",
    "                    current_chunk[\"text\"] += \" \" + next_chunk[\"text\"]\n",
    "                    current_chunk[\"chunk_char_count\"] = len(current_chunk[\"text\"])\n",
    "                    current_chunk[\"chunk_word_count\"] = len(current_chunk[\"text\"].split(\" \"))\n",
    "                    current_chunk[\"chunk_token_count\"] = len(current_chunk[\"text\"]) / 4\n",
    "                    new_text_and_chunks.append(current_chunk)\n",
    "                    i += 2 # skip the next chunk as it's already merged\n",
    "        else:\n",
    "            new_text_and_chunks.append(current_chunk)\n",
    "            i += 1\n",
    "    return new_text_and_chunks"
   ]
  },
  {
   "cell_type": "code",
   "execution_count": 15,
   "id": "59393faa",
   "metadata": {},
   "outputs": [
    {
     "data": {
      "text/html": [
       "<div>\n",
       "<style scoped>\n",
       "    .dataframe tbody tr th:only-of-type {\n",
       "        vertical-align: middle;\n",
       "    }\n",
       "\n",
       "    .dataframe tbody tr th {\n",
       "        vertical-align: top;\n",
       "    }\n",
       "\n",
       "    .dataframe thead th {\n",
       "        text-align: right;\n",
       "    }\n",
       "</style>\n",
       "<table border=\"1\" class=\"dataframe\">\n",
       "  <thead>\n",
       "    <tr style=\"text-align: right;\">\n",
       "      <th></th>\n",
       "      <th>chunk_char_count</th>\n",
       "      <th>chunk_word_count</th>\n",
       "      <th>chunk_token_count</th>\n",
       "    </tr>\n",
       "  </thead>\n",
       "  <tbody>\n",
       "    <tr>\n",
       "      <th>count</th>\n",
       "      <td>39.0</td>\n",
       "      <td>39.0</td>\n",
       "      <td>39.0</td>\n",
       "    </tr>\n",
       "    <tr>\n",
       "      <th>mean</th>\n",
       "      <td>611.7</td>\n",
       "      <td>95.1</td>\n",
       "      <td>152.9</td>\n",
       "    </tr>\n",
       "    <tr>\n",
       "      <th>std</th>\n",
       "      <td>186.0</td>\n",
       "      <td>29.5</td>\n",
       "      <td>46.5</td>\n",
       "    </tr>\n",
       "    <tr>\n",
       "      <th>min</th>\n",
       "      <td>102.0</td>\n",
       "      <td>16.0</td>\n",
       "      <td>25.5</td>\n",
       "    </tr>\n",
       "    <tr>\n",
       "      <th>25%</th>\n",
       "      <td>543.0</td>\n",
       "      <td>84.5</td>\n",
       "      <td>135.8</td>\n",
       "    </tr>\n",
       "    <tr>\n",
       "      <th>50%</th>\n",
       "      <td>590.0</td>\n",
       "      <td>94.0</td>\n",
       "      <td>147.5</td>\n",
       "    </tr>\n",
       "    <tr>\n",
       "      <th>75%</th>\n",
       "      <td>709.0</td>\n",
       "      <td>110.0</td>\n",
       "      <td>177.2</td>\n",
       "    </tr>\n",
       "    <tr>\n",
       "      <th>max</th>\n",
       "      <td>997.0</td>\n",
       "      <td>161.0</td>\n",
       "      <td>249.2</td>\n",
       "    </tr>\n",
       "  </tbody>\n",
       "</table>\n",
       "</div>"
      ],
      "text/plain": [
       "       chunk_char_count  chunk_word_count  chunk_token_count\n",
       "count              39.0              39.0               39.0\n",
       "mean              611.7              95.1              152.9\n",
       "std               186.0              29.5               46.5\n",
       "min               102.0              16.0               25.5\n",
       "25%               543.0              84.5              135.8\n",
       "50%               590.0              94.0              147.5\n",
       "75%               709.0             110.0              177.2\n",
       "max               997.0             161.0              249.2"
      ]
     },
     "execution_count": 15,
     "metadata": {},
     "output_type": "execute_result"
    }
   ],
   "source": [
    "filttered_chunks = chunks_fitter(chunks, min_tokens_length=MIN_TOKENS_LENGTH)\n",
    "df = pd.DataFrame(filttered_chunks)\n",
    "df.describe().round(1)"
   ]
  },
  {
   "cell_type": "code",
   "execution_count": 16,
   "id": "f1a9f19e",
   "metadata": {},
   "outputs": [
    {
     "name": "stdout",
     "output_type": "stream",
     "text": [
      "Chunks with less than 25 tokens: 0\n"
     ]
    }
   ],
   "source": [
    "print(f\"Chunks with less than {MIN_TOKENS_LENGTH} tokens: {sum(df[\"chunk_token_count\"] < MIN_TOKENS_LENGTH)}\")"
   ]
  },
  {
   "cell_type": "markdown",
   "id": "19a3c0dd",
   "metadata": {},
   "source": [
    "## Text embedding"
   ]
  },
  {
   "cell_type": "code",
   "execution_count": 17,
   "id": "44ca0341",
   "metadata": {},
   "outputs": [
    {
     "name": "stderr",
     "output_type": "stream",
     "text": [
      "/Users/joaoloss/Documents/ML/LLM_studies/udemy_course/no_frameworks/.venv/lib/python3.13/site-packages/tqdm/auto.py:21: TqdmWarning: IProgress not found. Please update jupyter and ipywidgets. See https://ipywidgets.readthedocs.io/en/stable/user_install.html\n",
      "  from .autonotebook import tqdm as notebook_tqdm\n"
     ]
    }
   ],
   "source": [
    "from sentence_transformers import SentenceTransformer # https://huggingface.co/sentence-transformers\n",
    "\n",
    "embedding_model = SentenceTransformer(model_name_or_path=EMBEDDING_MODEL,\n",
    "                            device=DEVICE,\n",
    "                            config_kwargs={\"use_fp16\": True}) # Setting use_fp16 to True speeds up computation with a slight performance degradation"
   ]
  },
  {
   "cell_type": "code",
   "execution_count": 18,
   "id": "6e9ff4e2",
   "metadata": {},
   "outputs": [
    {
     "data": {
      "text/plain": [
       "tensor([[-0.0392,  0.0595, -0.0200,  ..., -0.0197, -0.0414, -0.0247],\n",
       "        [-0.0268,  0.0013, -0.0271,  ..., -0.0639,  0.0011, -0.0358],\n",
       "        [-0.0028,  0.0202, -0.0625,  ..., -0.0128, -0.0418, -0.0130]],\n",
       "       device='mps:0')"
      ]
     },
     "execution_count": 18,
     "metadata": {},
     "output_type": "execute_result"
    }
   ],
   "source": [
    "test_sentences = [\n",
    "    \"Olá, como posso ajudar você hoje?\",\n",
    "    \"Qual é o status do meu pedido?\",\n",
    "    \"Preciso de assistência com minha conta.\"\n",
    "]\n",
    "\n",
    "test_embeddings = embedding_model.encode(sentences=test_sentences,\n",
    "                                         dtype=torch.float32,\n",
    "                                         convert_to_tensor=True)\n",
    "test_embeddings"
   ]
  },
  {
   "cell_type": "code",
   "execution_count": 19,
   "id": "e4586660",
   "metadata": {},
   "outputs": [
    {
     "name": "stdout",
     "output_type": "stream",
     "text": [
      "Embedding dim: 1024\n"
     ]
    }
   ],
   "source": [
    "print(f\"Embedding dim: {test_embeddings[0].shape[0]}\")"
   ]
  },
  {
   "cell_type": "code",
   "execution_count": 20,
   "id": "f6c424f4",
   "metadata": {},
   "outputs": [
    {
     "data": {
      "text/plain": [
       "True"
      ]
     },
     "execution_count": 20,
     "metadata": {},
     "output_type": "execute_result"
    }
   ],
   "source": [
    "# Check if all embeddings are normalized (unit norm)\n",
    "\n",
    "from math import sqrt\n",
    "\n",
    "test_embeddings_norm = [round(sqrt(sum(e**2)), 2) for e in test_embeddings]\n",
    "sum(test_embeddings_norm) == len(test_embeddings)"
   ]
  },
  {
   "cell_type": "code",
   "execution_count": 21,
   "id": "269b7119",
   "metadata": {},
   "outputs": [
    {
     "name": "stderr",
     "output_type": "stream",
     "text": [
      "Embedding chunks: 100%|██████████| 39/39 [00:03<00:00, 11.29chunk/s]\n"
     ]
    },
    {
     "data": {
      "text/plain": [
       "{'text': '●\\u200b Ative notificações de movimentações na conta.\\u200b  ●\\u200b Mantenha o sistema do celular e o app atualizados.\\u200b  ●\\u200b Use senhas fortes e exclusivas.\\u200b  Fraudes mais comuns e como evitar ●\\u200b Phishing: e-mails ou mensagens falsas pedindo dados. Verifique sempre o remetente.\\u200b  ●\\u200b Links falsos: evite clicar em links não confiáveis.\\u200b  ●\\u200b Golpe do falso atendente: o banco nunca solicita senhas ou códigos por telefone.\\u200b  ●\\u200b Clonagem de WhatsApp: não compartilhe códigos recebidos por SMS.\\u200b   12. Gerenciamento de Dados Pessoais Como alterar dados cadastrais\\u200b Dados como telefone, e-mail, endereço e profissão podem ser atualizados no app em “Minha conta” > “Dados pessoais”. Alterações sensíveis, como nome e CPF, exigem envio de documentação. Exclusão de conta\\u200b A exclusão pode ser solicitada no menu “Encerramento de conta” ou pelo atendimento. Após a solicitação, o banco inicia um processo que pode levar até 10 dias úteis. Durante esse período, o cliente deve estar com a conta zerada.',\n",
       " 'chunk_char_count': 978,\n",
       " 'chunk_word_count': 161,\n",
       " 'chunk_token_count': 244.5,\n",
       " 'embedding': tensor([-0.0243, -0.0049, -0.0492,  ...,  0.0114, -0.0191, -0.0579],\n",
       "        device='mps:0')}"
      ]
     },
     "execution_count": 21,
     "metadata": {},
     "output_type": "execute_result"
    }
   ],
   "source": [
    "# Embed all chunks\n",
    "for i in tqdm(filttered_chunks, desc=\"Embedding chunks\", unit=\"chunk\"):\n",
    "    i[\"embedding\"] = embedding_model.encode(sentences=i[\"text\"],\n",
    "                                            dtype=torch.float32,\n",
    "                                            convert_to_tensor=True)\n",
    "\n",
    "random.sample(filttered_chunks, 1)[0]"
   ]
  },
  {
   "cell_type": "markdown",
   "id": "58aa5581",
   "metadata": {},
   "source": [
    "## Embed storing"
   ]
  },
  {
   "cell_type": "markdown",
   "id": "71e2ae06",
   "metadata": {},
   "source": [
    "For simplicity, embeddings will be stored in a CSV file. However, when dealing with a large volume of embeddings (e.g., over 1M), a vector database (such as <a href=\"https://github.com/facebookresearch/faiss\">FAISS</a>) becomes necessary."
   ]
  },
  {
   "cell_type": "code",
   "execution_count": 22,
   "id": "08c53bbc",
   "metadata": {},
   "outputs": [],
   "source": [
    "from json import dumps # Using json to serialize the embeddings as strings\n",
    "embeddings_df = pd.DataFrame(filttered_chunks)\n",
    "embeddings_df[\"embedding\"] = embeddings_df[\"embedding\"].apply(lambda x: dumps(x.tolist()))\n",
    "embeddings_df.to_csv(EMBEDDING_PATH, index=False)"
   ]
  },
  {
   "cell_type": "markdown",
   "id": "dcdd319e",
   "metadata": {},
   "source": [
    "# Retrieving & Generating"
   ]
  },
  {
   "cell_type": "markdown",
   "id": "a6aa8ad5",
   "metadata": {},
   "source": [
    "## Loading embeddings"
   ]
  },
  {
   "cell_type": "code",
   "execution_count": 23,
   "id": "c3e63417",
   "metadata": {},
   "outputs": [],
   "source": [
    "import pandas as pd\n",
    "from json import loads\n",
    "\n",
    "embeddings_df = pd.read_csv(EMBEDDING_PATH)\n",
    "embeddings_df[\"embedding\"] = embeddings_df[\"embedding\"].apply(lambda x: torch.tensor(loads(x), dtype=torch.float32))"
   ]
  },
  {
   "cell_type": "code",
   "execution_count": 24,
   "id": "c684eab2",
   "metadata": {},
   "outputs": [
    {
     "data": {
      "text/html": [
       "<div>\n",
       "<style scoped>\n",
       "    .dataframe tbody tr th:only-of-type {\n",
       "        vertical-align: middle;\n",
       "    }\n",
       "\n",
       "    .dataframe tbody tr th {\n",
       "        vertical-align: top;\n",
       "    }\n",
       "\n",
       "    .dataframe thead th {\n",
       "        text-align: right;\n",
       "    }\n",
       "</style>\n",
       "<table border=\"1\" class=\"dataframe\">\n",
       "  <thead>\n",
       "    <tr style=\"text-align: right;\">\n",
       "      <th></th>\n",
       "      <th>text</th>\n",
       "      <th>chunk_char_count</th>\n",
       "      <th>chunk_word_count</th>\n",
       "      <th>chunk_token_count</th>\n",
       "      <th>embedding</th>\n",
       "    </tr>\n",
       "  </thead>\n",
       "  <tbody>\n",
       "    <tr>\n",
       "      <th>0</th>\n",
       "      <td>Manual de Atendimento e Uso – SafeBank  1. Int...</td>\n",
       "      <td>916</td>\n",
       "      <td>140</td>\n",
       "      <td>229.0</td>\n",
       "      <td>[tensor(-0.0248), tensor(-0.0040), tensor(-0.0...</td>\n",
       "    </tr>\n",
       "    <tr>\n",
       "      <th>1</th>\n",
       "      <td>Público-alvo  O banco digital é voltado para p...</td>\n",
       "      <td>882</td>\n",
       "      <td>150</td>\n",
       "      <td>220.5</td>\n",
       "      <td>[tensor(-0.0012), tensor(-0.0198), tensor(-0.0...</td>\n",
       "    </tr>\n",
       "    <tr>\n",
       "      <th>2</th>\n",
       "      <td>Prazo para ativação da conta  O processo de ve...</td>\n",
       "      <td>638</td>\n",
       "      <td>111</td>\n",
       "      <td>159.5</td>\n",
       "      <td>[tensor(0.0321), tensor(-0.0184), tensor(-0.01...</td>\n",
       "    </tr>\n",
       "  </tbody>\n",
       "</table>\n",
       "</div>"
      ],
      "text/plain": [
       "                                                text  chunk_char_count  \\\n",
       "0  Manual de Atendimento e Uso – SafeBank  1. Int...               916   \n",
       "1  Público-alvo  O banco digital é voltado para p...               882   \n",
       "2  Prazo para ativação da conta  O processo de ve...               638   \n",
       "\n",
       "   chunk_word_count  chunk_token_count  \\\n",
       "0               140              229.0   \n",
       "1               150              220.5   \n",
       "2               111              159.5   \n",
       "\n",
       "                                           embedding  \n",
       "0  [tensor(-0.0248), tensor(-0.0040), tensor(-0.0...  \n",
       "1  [tensor(-0.0012), tensor(-0.0198), tensor(-0.0...  \n",
       "2  [tensor(0.0321), tensor(-0.0184), tensor(-0.01...  "
      ]
     },
     "execution_count": 24,
     "metadata": {},
     "output_type": "execute_result"
    }
   ],
   "source": [
    "embeddings_df.head(3)"
   ]
  },
  {
   "cell_type": "code",
   "execution_count": 25,
   "id": "8d0c8675",
   "metadata": {},
   "outputs": [
    {
     "data": {
      "text/plain": [
       "torch.Size([39, 1024])"
      ]
     },
     "execution_count": 25,
     "metadata": {},
     "output_type": "execute_result"
    }
   ],
   "source": [
    "import numpy as np\n",
    "\n",
    "embeddings = torch.tensor(data=np.array(embeddings_df[\"embedding\"].tolist()),\n",
    "                          dtype=torch.float32).to(DEVICE)\n",
    "embeddings.shape"
   ]
  },
  {
   "cell_type": "markdown",
   "id": "0a918bb2",
   "metadata": {},
   "source": [
    "## Query embedding"
   ]
  },
  {
   "cell_type": "code",
   "execution_count": 26,
   "id": "23df07fc",
   "metadata": {},
   "outputs": [],
   "source": [
    "from sentence_transformers import SentenceTransformer\n",
    "\n",
    "embedding_model = SentenceTransformer(model_name_or_path=EMBEDDING_MODEL,\n",
    "                                      device=DEVICE,\n",
    "                                      config_kwargs={\"use_fp16\": True})"
   ]
  },
  {
   "cell_type": "code",
   "execution_count": 27,
   "id": "df94397f",
   "metadata": {},
   "outputs": [
    {
     "data": {
      "text/plain": [
       "tensor([-0.0055, -0.0003, -0.0560,  ...,  0.0185, -0.0187, -0.0300],\n",
       "       device='mps:0')"
      ]
     },
     "execution_count": 27,
     "metadata": {},
     "output_type": "execute_result"
    }
   ],
   "source": [
    "query = \"Como faço para abrir uma conta?\"\n",
    "query_embedding = embedding_model.encode(sentences=query,\n",
    "                                         dtype=torch.float32,\n",
    "                                         convert_to_tensor=True).to(DEVICE)\n",
    "query_embedding"
   ]
  },
  {
   "cell_type": "code",
   "execution_count": 28,
   "id": "dcb226c0",
   "metadata": {},
   "outputs": [
    {
     "data": {
      "text/plain": [
       "torch.Size([1024])"
      ]
     },
     "execution_count": 28,
     "metadata": {},
     "output_type": "execute_result"
    }
   ],
   "source": [
    "query_embedding.shape # same dimension as chunk embeddings"
   ]
  },
  {
   "cell_type": "markdown",
   "id": "ca2c969e",
   "metadata": {},
   "source": [
    "## Similarity search"
   ]
  },
  {
   "cell_type": "markdown",
   "id": "9d2736dc",
   "metadata": {},
   "source": [
    "### Dot product and Cosine similarity\n",
    "Both are mathematical operations that take two vectors of the same length and return a single number (a scalar), which can be used to perform similarity search. The idea is that the larger this number is, the higher the chance of semantic similarity between the encoded texts.\n",
    "\n",
    "### Dot product (GPT Text)\n",
    "Takes into account both:\n",
    "- How **aligned** (the angle) the vectors are (do they “point in a similar direction” → semantic similarity), and  \n",
    "- How **large** the vectors are (magnitude), i.e., the length of each embedding. Larger magnitudes will increase the dot product.\n",
    "\n",
    "### Cosine Similarity (GPT Text)\n",
    "- Cares only about the **angle** (direction). It **ignores magnitude**. So two vectors pointing in exactly the same direction but with very different lengths will still have a cosine similarity close to 1, even if one vector’s magnitude is huge and the other small.\n",
    "\n",
    "Mathematically, if two vectors (*v1*, *v2*) are normalized (which is our case), then:  \n",
    "`dot_product(v1, v2) == cosine_similarity(v1, v2)`.  \n",
    "\n",
    "So, to avoid unnecessary operations, if the vectors are already normalized (as in our embedding model), it is enough to perform the dot product to obtain the cosine similarity.\n",
    "\n",
    "In general, it seems that the **direction** (rather than the magnitude) of the embedding vectors is the main factor in determining the semantics of the information. That’s why some embeddings already come normalized and why cosine similarity is generally preferred."
   ]
  },
  {
   "cell_type": "code",
   "execution_count": 29,
   "id": "dfec53da",
   "metadata": {},
   "outputs": [],
   "source": [
    "def get_similarity_scores(query_embedding: torch.Tensor, embeddings: torch.Tensor) -> torch.Tensor:\n",
    "    \"\"\"\n",
    "    Compute similarity scores between the query embedding and all chunk embeddings\n",
    "    using dot product since our embeddings are normalized (unit norm).\n",
    "    \"\"\"\n",
    "    return torch.matmul(embeddings, query_embedding)"
   ]
  },
  {
   "cell_type": "code",
   "execution_count": 30,
   "id": "3fb00b10",
   "metadata": {},
   "outputs": [
    {
     "data": {
      "text/plain": [
       "tensor([0.5182, 0.6595, 0.5724, 0.5547, 0.5661, 0.5285, 0.5555, 0.5356, 0.4909,\n",
       "        0.5140, 0.3968, 0.5009, 0.5293, 0.5166, 0.5018, 0.4516, 0.4690, 0.4944,\n",
       "        0.5604, 0.5023, 0.4581, 0.5077, 0.5069, 0.5204, 0.5372, 0.5148, 0.5957,\n",
       "        0.5560, 0.4126, 0.5071, 0.4969, 0.5871, 0.5324, 0.4860, 0.4538, 0.4345,\n",
       "        0.4927, 0.4539, 0.4473], device='mps:0')"
      ]
     },
     "execution_count": 30,
     "metadata": {},
     "output_type": "execute_result"
    }
   ],
   "source": [
    "scores = get_similarity_scores(query_embedding, embeddings)\n",
    "scores"
   ]
  },
  {
   "cell_type": "code",
   "execution_count": 31,
   "id": "5e281316",
   "metadata": {},
   "outputs": [
    {
     "data": {
      "text/plain": [
       "torch.return_types.topk(\n",
       "values=tensor([0.6595, 0.5957, 0.5871], device='mps:0'),\n",
       "indices=tensor([ 1, 26, 31], device='mps:0'))"
      ]
     },
     "execution_count": 31,
     "metadata": {},
     "output_type": "execute_result"
    }
   ],
   "source": [
    "K = 3 # Number of top similar chunks to retrieve\n",
    "top_k = torch.topk(scores, k=K)\n",
    "top_k"
   ]
  },
  {
   "cell_type": "code",
   "execution_count": 32,
   "id": "211c8690",
   "metadata": {},
   "outputs": [
    {
     "data": {
      "text/plain": [
       "['Público-alvo  O banco digital é voltado para pessoas físicas a partir de 18 anos, que buscam soluções financeiras modernas, acessíveis e com gestão 100% digital. 2. Cadastro e Abertura de Conta Requisitos para abertura de conta ●\\u200b Ser maior de 18 anos ●\\u200b Ter documento oficial com foto (RG, CNH ou RNE) ●\\u200b Possuir um smartphone com câmera ●\\u200b Endereço residencial  Etapas do processo de cadastro 1.\\u200b Baixe o aplicativo ou acesse o site oficial 2.\\u200b Informe dados pessoais (nome, CPF, e-mail, telefone) 3.\\u200b Envie foto de documento oficial com foto 4.\\u200b Grave um vídeo de reconhecimento facial 5.\\u200b Confirme seu endereço e aceite os termos de uso Verificação de identidade (KYC)  O processo de KYC (Know Your Customer) é obrigatório para prevenir fraudes e garantir a segurança de todos os usuários. Após o envio dos documentos, nossa equipe faz a validação automática e manual dos dados.',\n",
       " '●\\u200b Ative notificações de movimentações na conta.\\u200b  ●\\u200b Mantenha o sistema do celular e o app atualizados.\\u200b  ●\\u200b Use senhas fortes e exclusivas.\\u200b  Fraudes mais comuns e como evitar ●\\u200b Phishing: e-mails ou mensagens falsas pedindo dados. Verifique sempre o remetente.\\u200b  ●\\u200b Links falsos: evite clicar em links não confiáveis.\\u200b  ●\\u200b Golpe do falso atendente: o banco nunca solicita senhas ou códigos por telefone.\\u200b  ●\\u200b Clonagem de WhatsApp: não compartilhe códigos recebidos por SMS.\\u200b   12. Gerenciamento de Dados Pessoais Como alterar dados cadastrais\\u200b Dados como telefone, e-mail, endereço e profissão podem ser atualizados no app em “Minha conta” > “Dados pessoais”. Alterações sensíveis, como nome e CPF, exigem envio de documentação. Exclusão de conta\\u200b A exclusão pode ser solicitada no menu “Encerramento de conta” ou pelo atendimento. Após a solicitação, o banco inicia um processo que pode levar até 10 dias úteis. Durante esse período, o cliente deve estar com a conta zerada.',\n",
       " 'Mais informações estão na seção “Acessibilidade” do site. 14. Encerramento de Conta Como solicitar encerramento\\u200b O encerramento pode ser solicitado no app em “Minha conta” > “Encerramento”. Também é']"
      ]
     },
     "execution_count": 32,
     "metadata": {},
     "output_type": "execute_result"
    }
   ],
   "source": [
    "top_k_indices = top_k.indices.tolist()\n",
    "\n",
    "relevant_chunks = embeddings_df.iloc[top_k_indices][\"text\"].tolist()\n",
    "relevant_chunks"
   ]
  },
  {
   "cell_type": "markdown",
   "id": "f42a2684",
   "metadata": {},
   "source": [
    "## LLM"
   ]
  },
  {
   "cell_type": "markdown",
   "id": "f0332eb9",
   "metadata": {},
   "source": [
    "Running it locally!"
   ]
  },
  {
   "cell_type": "code",
   "execution_count": 33,
   "id": "cb92d95b",
   "metadata": {},
   "outputs": [
    {
     "name": "stderr",
     "output_type": "stream",
     "text": [
      "Loading checkpoint shards: 100%|██████████| 2/2 [00:13<00:00,  6.97s/it]\n"
     ]
    }
   ],
   "source": [
    "from transformers import AutoModelForCausalLM, AutoTokenizer\n",
    "import torch\n",
    "\n",
    "tokenizer = AutoTokenizer.from_pretrained(pretrained_model_name_or_path=LLM_MODEL_ID)\n",
    "llm_model = AutoModelForCausalLM.from_pretrained(pretrained_model_name_or_path=LLM_MODEL_ID,\n",
    "                                                 dtype=torch.bfloat16, # keeping original precision\n",
    "                                                 device_map=DEVICE)"
   ]
  },
  {
   "cell_type": "code",
   "execution_count": 34,
   "id": "1445ac37",
   "metadata": {},
   "outputs": [
    {
     "data": {
      "text/plain": [
       "Gemma2ForCausalLM(\n",
       "  (model): Gemma2Model(\n",
       "    (embed_tokens): Embedding(256000, 2304, padding_idx=0)\n",
       "    (layers): ModuleList(\n",
       "      (0-25): 26 x Gemma2DecoderLayer(\n",
       "        (self_attn): Gemma2Attention(\n",
       "          (q_proj): Linear(in_features=2304, out_features=2048, bias=False)\n",
       "          (k_proj): Linear(in_features=2304, out_features=1024, bias=False)\n",
       "          (v_proj): Linear(in_features=2304, out_features=1024, bias=False)\n",
       "          (o_proj): Linear(in_features=2048, out_features=2304, bias=False)\n",
       "        )\n",
       "        (mlp): Gemma2MLP(\n",
       "          (gate_proj): Linear(in_features=2304, out_features=9216, bias=False)\n",
       "          (up_proj): Linear(in_features=2304, out_features=9216, bias=False)\n",
       "          (down_proj): Linear(in_features=9216, out_features=2304, bias=False)\n",
       "          (act_fn): PytorchGELUTanh()\n",
       "        )\n",
       "        (input_layernorm): Gemma2RMSNorm((2304,), eps=1e-06)\n",
       "        (post_attention_layernorm): Gemma2RMSNorm((2304,), eps=1e-06)\n",
       "        (pre_feedforward_layernorm): Gemma2RMSNorm((2304,), eps=1e-06)\n",
       "        (post_feedforward_layernorm): Gemma2RMSNorm((2304,), eps=1e-06)\n",
       "      )\n",
       "    )\n",
       "    (norm): Gemma2RMSNorm((2304,), eps=1e-06)\n",
       "    (rotary_emb): Gemma2RotaryEmbedding()\n",
       "  )\n",
       "  (lm_head): Linear(in_features=2304, out_features=256000, bias=False)\n",
       ")"
      ]
     },
     "execution_count": 34,
     "metadata": {},
     "output_type": "execute_result"
    }
   ],
   "source": [
    "llm_model"
   ]
  },
  {
   "cell_type": "code",
   "execution_count": 48,
   "id": "82203477",
   "metadata": {},
   "outputs": [
    {
     "name": "stdout",
     "output_type": "stream",
     "text": [
      "LLM model vocab size: 256,000\n"
     ]
    }
   ],
   "source": [
    "print(f\"LLM model vocab size: {tokenizer.vocab_size:,}\")"
   ]
  },
  {
   "cell_type": "code",
   "execution_count": 36,
   "id": "ccc9ab84",
   "metadata": {},
   "outputs": [
    {
     "name": "stdout",
     "output_type": "stream",
     "text": [
      "Model num params: 2,614,341,888\n",
      "Model mem size: 4.87GB\n"
     ]
    }
   ],
   "source": [
    "def get_model_num_params(model: torch.nn.Module):\n",
    "    return sum([param.numel() for param in model.parameters()])\n",
    "\n",
    "def get_model_mem_size(model: torch.nn.Module):\n",
    "    \"\"\"\n",
    "    Get how much memory a PyTorch model takes up.\n",
    "    \"\"\"\n",
    "\n",
    "    # Get model parameters and buffer sizes\n",
    "    mem_params = sum([param.nelement() * param.element_size() for param in model.parameters()])\n",
    "    mem_buffers = sum([buf.nelement() * buf.element_size() for buf in model.buffers()])\n",
    "\n",
    "    # Buffers are tensors that do not get updated during backpropagation. They act\n",
    "    # like persistent, non-trainable states that you still want to keep track of.\n",
    "\n",
    "    # Calculate various model sizes\n",
    "    model_mem_bytes = mem_params + mem_buffers # in bytes\n",
    "    model_mem_mb = model_mem_bytes / (1024**2) # in megabytes\n",
    "    model_mem_gb = model_mem_bytes / (1024**3) # in gigabytes\n",
    "\n",
    "    return {\"model_mem_bytes\": model_mem_bytes,\n",
    "            \"model_mem_mb\": round(model_mem_mb, 2),\n",
    "            \"model_mem_gb\": round(model_mem_gb, 2)}\n",
    "\n",
    "print(f\"Model num params: {get_model_num_params(llm_model):,}\")\n",
    "\n",
    "print(f\"Model mem size: {get_model_mem_size(llm_model)[\"model_mem_gb\"]}GB\")"
   ]
  },
  {
   "cell_type": "code",
   "execution_count": 37,
   "id": "7c6a4c24",
   "metadata": {},
   "outputs": [
    {
     "name": "stdout",
     "output_type": "stream",
     "text": [
      "<bos><start_of_turn>user\n",
      "Escreva um poema curto sobre o tema 'tecnologia e futuro', em português.<end_of_turn>\n",
      "<start_of_turn>model\n",
      "\n"
     ]
    }
   ],
   "source": [
    "test_message = [\n",
    "    {\"role\": \"user\", \"content\": \"Escreva um poema curto sobre o tema 'tecnologia e futuro', em português.\"}\n",
    "]\n",
    "\n",
    "# About chat templates: https://huggingface.co/docs/transformers/chat_templating\n",
    "tokenized_test_message = tokenizer.apply_chat_template(conversation=test_message, tokenize=True, add_generation_prompt=True, return_tensors=\"pt\").to(DEVICE)\n",
    "\n",
    "print(tokenizer.decode(tokenized_test_message[0]))"
   ]
  },
  {
   "cell_type": "code",
   "execution_count": 38,
   "id": "884045f8",
   "metadata": {},
   "outputs": [
    {
     "data": {
      "text/plain": [
       "tensor([[     2,    106,   1645,    108,   5305, 170503,   2378,  98787,  94762,\n",
       "           4343,    493,  18952,    777,  16977,  65450,    526,  25817,    920,\n",
       "           2190, 101619, 235265,    107,    108,    106,   2516,    108]],\n",
       "       device='mps:0')"
      ]
     },
     "execution_count": 38,
     "metadata": {},
     "output_type": "execute_result"
    }
   ],
   "source": [
    "tokenized_test_message"
   ]
  },
  {
   "cell_type": "code",
   "execution_count": 39,
   "id": "ba2630aa",
   "metadata": {},
   "outputs": [
    {
     "name": "stdout",
     "output_type": "stream",
     "text": [
      "tensor([[     2,    106,   1645,    108,   5305, 170503,   2378,  98787,  94762,\n",
      "           4343,    493,  18952,    777,  16977,  65450,    526,  25817,    920,\n",
      "           2190, 101619, 235265,    107,    108,    106,   2516,    108, 235280,\n",
      "          23898,  59003,    527, 235269,   2378,  24177,    699,  51762, 235269,\n",
      "            108,   1294,  25817, 235269,    476,  58974,    699,   1121,   8440,\n",
      "         235265,    108,    958,    770,   5055,  97367,  41077, 235269,   2378,\n",
      "          10000,    476,    699,  94347, 235269,    108,  10186,   9229,   5499,\n",
      "         235269,   2378,  68905,    476,    699,    848,  32328,   7048, 235265,\n",
      "            109,  10209, 181538,   2052, 140803, 235269, 110665,   2790,   9729,\n",
      "            563, 235269,    108, 235280,  93244,  10417,  18225, 235269,   2378,\n",
      "          22640,  31097,    480,   1351, 235265,    108, 235280,   8002,    699,\n",
      "          54337, 235269,    476,  98519,    699,    582,    484,   1037,    524,\n",
      "         235269,    108,  10186,   2378,  25817,  80648,    511, 235269,   2927,\n",
      "         171852,    581,   5663,    669,    508, 235265,    109,  15461,  39463,\n",
      "         235269,   8370,  37239, 235269,    681,    493,  12649,    907,    699,\n",
      "           1292,   4365, 235269,    108, 235280,  58974, 235269,   2378, 139851,\n",
      "         235269,   2279,   2909,    493,    907,    699, 140809, 235265,    108,\n",
      "          10186,   9229,  13459, 235269,   2378,  67370,    534, 235269,   2378,\n",
      "         158233,    476,   1369,  36871,   1548, 235269,    108,  11741,  60982,\n",
      "           2378,  25817, 235269,  24334,    476, 223699,    699, 179873, 235265,\n",
      "         235248,    108,    107]], device='mps:0')\n",
      "\n",
      "<bos><start_of_turn>user\n",
      "Escreva um poema curto sobre o tema 'tecnologia e futuro', em português.<end_of_turn>\n",
      "<start_of_turn>model\n",
      "A tela brilha, um portal se abre,\n",
      "No futuro, a tecnologia se expande.\n",
      "Conexões invisíveis, um mundo a se conectar,\n",
      "Em cada click, um universo a se desdobrar.\n",
      "\n",
      "Robôs dançam, algoritmos pensam,\n",
      "A inteligência artificial, um novo amanhecer.\n",
      "A vida se transforma, a realidade se reescreve,\n",
      "Em um futuro incerto, mas cheio de promessas.\n",
      "\n",
      "Mas cuidado, oh homem, com o poder que se acende,\n",
      "A tecnologia, um espelho, reflete o que se cria.\n",
      "Em cada byte, um dilema, um desafio a ser enfrentado,\n",
      "Para construir um futuro, onde a humanidade se salve. \n",
      "<end_of_turn>\n"
     ]
    }
   ],
   "source": [
    "llm_output = llm_model.generate(tokenized_test_message, max_new_tokens=256)\n",
    "print(llm_output)\n",
    "\n",
    "print(\"\")\n",
    "\n",
    "llm_output_decoded = tokenizer.decode(llm_output[0])\n",
    "print(llm_output_decoded)"
   ]
  },
  {
   "cell_type": "markdown",
   "id": "6806afba",
   "metadata": {},
   "source": [
    "## Prompt augmenting"
   ]
  },
  {
   "cell_type": "code",
   "execution_count": 40,
   "id": "ebbc2c04",
   "metadata": {},
   "outputs": [
    {
     "data": {
      "text/plain": [
       "['Público-alvo  O banco digital é voltado para pessoas físicas a partir de 18 anos, que buscam soluções financeiras modernas, acessíveis e com gestão 100% digital. 2. Cadastro e Abertura de Conta Requisitos para abertura de conta ●\\u200b Ser maior de 18 anos ●\\u200b Ter documento oficial com foto (RG, CNH ou RNE) ●\\u200b Possuir um smartphone com câmera ●\\u200b Endereço residencial  Etapas do processo de cadastro 1.\\u200b Baixe o aplicativo ou acesse o site oficial 2.\\u200b Informe dados pessoais (nome, CPF, e-mail, telefone) 3.\\u200b Envie foto de documento oficial com foto 4.\\u200b Grave um vídeo de reconhecimento facial 5.\\u200b Confirme seu endereço e aceite os termos de uso Verificação de identidade (KYC)  O processo de KYC (Know Your Customer) é obrigatório para prevenir fraudes e garantir a segurança de todos os usuários. Após o envio dos documentos, nossa equipe faz a validação automática e manual dos dados.',\n",
       " '●\\u200b Ative notificações de movimentações na conta.\\u200b  ●\\u200b Mantenha o sistema do celular e o app atualizados.\\u200b  ●\\u200b Use senhas fortes e exclusivas.\\u200b  Fraudes mais comuns e como evitar ●\\u200b Phishing: e-mails ou mensagens falsas pedindo dados. Verifique sempre o remetente.\\u200b  ●\\u200b Links falsos: evite clicar em links não confiáveis.\\u200b  ●\\u200b Golpe do falso atendente: o banco nunca solicita senhas ou códigos por telefone.\\u200b  ●\\u200b Clonagem de WhatsApp: não compartilhe códigos recebidos por SMS.\\u200b   12. Gerenciamento de Dados Pessoais Como alterar dados cadastrais\\u200b Dados como telefone, e-mail, endereço e profissão podem ser atualizados no app em “Minha conta” > “Dados pessoais”. Alterações sensíveis, como nome e CPF, exigem envio de documentação. Exclusão de conta\\u200b A exclusão pode ser solicitada no menu “Encerramento de conta” ou pelo atendimento. Após a solicitação, o banco inicia um processo que pode levar até 10 dias úteis. Durante esse período, o cliente deve estar com a conta zerada.',\n",
       " 'Mais informações estão na seção “Acessibilidade” do site. 14. Encerramento de Conta Como solicitar encerramento\\u200b O encerramento pode ser solicitado no app em “Minha conta” > “Encerramento”. Também é']"
      ]
     },
     "execution_count": 40,
     "metadata": {},
     "output_type": "execute_result"
    }
   ],
   "source": [
    "query = \"Como faço para abrir uma conta?\"\n",
    "scores = get_similarity_scores(query_embedding, embeddings)\n",
    "top_k_indices = torch.topk(scores, k=K).indices.tolist()\n",
    "relevant_chunks = embeddings_df.iloc[top_k_indices][\"text\"].tolist()\n",
    "relevant_chunks"
   ]
  },
  {
   "cell_type": "code",
   "execution_count": 41,
   "id": "6f432ee2",
   "metadata": {},
   "outputs": [
    {
     "name": "stdout",
     "output_type": "stream",
     "text": [
      "[{'role': 'user', 'content': '\\nBaseado apenas no dado contexto, responda a pergunta que vem a seguir.\\nContexto:\\nPúblico-alvo  O banco digital é voltado para pessoas físicas a partir de 18 anos, que buscam soluções financeiras modernas, acessíveis e com gestão 100% digital. 2. Cadastro e Abertura de Conta Requisitos para abertura de conta ●\\u200b Ser maior de 18 anos ●\\u200b Ter documento oficial com foto (RG, CNH ou RNE) ●\\u200b Possuir um smartphone com câmera ●\\u200b Endereço residencial  Etapas do processo de cadastro 1.\\u200b Baixe o aplicativo ou acesse o site oficial 2.\\u200b Informe dados pessoais (nome, CPF, e-mail, telefone) 3.\\u200b Envie foto de documento oficial com foto 4.\\u200b Grave um vídeo de reconhecimento facial 5.\\u200b Confirme seu endereço e aceite os termos de uso Verificação de identidade (KYC)  O processo de KYC (Know Your Customer) é obrigatório para prevenir fraudes e garantir a segurança de todos os usuários. Após o envio dos documentos, nossa equipe faz a validação automática e manual dos dados.\\n●\\u200b Ative notificações de movimentações na conta.\\u200b  ●\\u200b Mantenha o sistema do celular e o app atualizados.\\u200b  ●\\u200b Use senhas fortes e exclusivas.\\u200b  Fraudes mais comuns e como evitar ●\\u200b Phishing: e-mails ou mensagens falsas pedindo dados. Verifique sempre o remetente.\\u200b  ●\\u200b Links falsos: evite clicar em links não confiáveis.\\u200b  ●\\u200b Golpe do falso atendente: o banco nunca solicita senhas ou códigos por telefone.\\u200b  ●\\u200b Clonagem de WhatsApp: não compartilhe códigos recebidos por SMS.\\u200b   12. Gerenciamento de Dados Pessoais Como alterar dados cadastrais\\u200b Dados como telefone, e-mail, endereço e profissão podem ser atualizados no app em “Minha conta” > “Dados pessoais”. Alterações sensíveis, como nome e CPF, exigem envio de documentação. Exclusão de conta\\u200b A exclusão pode ser solicitada no menu “Encerramento de conta” ou pelo atendimento. Após a solicitação, o banco inicia um processo que pode levar até 10 dias úteis. Durante esse período, o cliente deve estar com a conta zerada.\\nMais informações estão na seção “Acessibilidade” do site. 14. Encerramento de Conta Como solicitar encerramento\\u200b O encerramento pode ser solicitado no app em “Minha conta” > “Encerramento”. Também é\\nPergunta: Como faço para abrir uma conta?\\nResposta:\\n'}]\n"
     ]
    }
   ],
   "source": [
    "prompt = \"\"\"\n",
    "Baseado apenas no dado contexto, responda a pergunta que vem a seguir.\n",
    "Contexto:\n",
    "{context}\n",
    "Pergunta: {question}\n",
    "Resposta:\n",
    "\"\"\"\n",
    "formatted_prompt = [{\"role\": \"user\", \"content\": prompt.format(context=\"\\n\".join(relevant_chunks), question=query)}]\n",
    "print(formatted_prompt)"
   ]
  },
  {
   "cell_type": "markdown",
   "id": "387a3f50",
   "metadata": {},
   "source": [
    "The final prompt plays a crucial role in obtaining high-quality responses from an LLM. Although many prompt-engineering techniques could be applied, the focus here was solely on the RAG pipeline itself.\n",
    "\n",
    "Useful resources:\n",
    "- <a href=\"https://www.promptingguide.ai/pt/introduction/examples\">Prompting Guide</a>\n",
    "- <a href=\"https://github.com/brexhq/prompt-engineering\">Brex’s Prompt Engineering Guide</a>\n",
    "- <a href=\"https://arxiv.org/abs/2401.14423\">Related arXiv Paper</a>\n"
   ]
  },
  {
   "cell_type": "code",
   "execution_count": 42,
   "id": "a1b310f0",
   "metadata": {},
   "outputs": [
    {
     "data": {
      "text/plain": [
       "torch.Size([1, 554])"
      ]
     },
     "execution_count": 42,
     "metadata": {},
     "output_type": "execute_result"
    }
   ],
   "source": [
    "tokenized_prompt = tokenizer.apply_chat_template(conversation=formatted_prompt, tokenize=True, add_generation_prompt=True, return_tensors=\"pt\").to(DEVICE)\n",
    "tokenized_prompt.shape"
   ]
  },
  {
   "cell_type": "code",
   "execution_count": 43,
   "id": "daa5fbd2",
   "metadata": {},
   "outputs": [
    {
     "data": {
      "text/plain": [
       "torch.Size([1, 642])"
      ]
     },
     "execution_count": 43,
     "metadata": {},
     "output_type": "execute_result"
    }
   ],
   "source": [
    "llm_output = llm_model.generate(tokenized_prompt, max_new_tokens=256)\n",
    "llm_output.shape"
   ]
  },
  {
   "cell_type": "code",
   "execution_count": 44,
   "id": "6c438a89",
   "metadata": {},
   "outputs": [
    {
     "name": "stdout",
     "output_type": "stream",
     "text": [
      "<bos><start_of_turn>user\n",
      "Baseado apenas no dado contexto, responda a pergunta que vem a seguir.\n",
      "Contexto:\n",
      "Público-alvo  O banco digital é voltado para pessoas físicas a partir de 18 anos, que buscam soluções financeiras modernas, acessíveis e com gestão 100% digital. 2. Cadastro e Abertura de Conta Requisitos para abertura de conta ●​ Ser maior de 18 anos ●​ Ter documento oficial com foto (RG, CNH ou RNE) ●​ Possuir um smartphone com câmera ●​ Endereço residencial  Etapas do processo de cadastro 1.​ Baixe o aplicativo ou acesse o site oficial 2.​ Informe dados pessoais (nome, CPF, e-mail, telefone) 3.​ Envie foto de documento oficial com foto 4.​ Grave um vídeo de reconhecimento facial 5.​ Confirme seu endereço e aceite os termos de uso Verificação de identidade (KYC)  O processo de KYC (Know Your Customer) é obrigatório para prevenir fraudes e garantir a segurança de todos os usuários. Após o envio dos documentos, nossa equipe faz a validação automática e manual dos dados.\n",
      "●​ Ative notificações de movimentações na conta.​  ●​ Mantenha o sistema do celular e o app atualizados.​  ●​ Use senhas fortes e exclusivas.​  Fraudes mais comuns e como evitar ●​ Phishing: e-mails ou mensagens falsas pedindo dados. Verifique sempre o remetente.​  ●​ Links falsos: evite clicar em links não confiáveis.​  ●​ Golpe do falso atendente: o banco nunca solicita senhas ou códigos por telefone.​  ●​ Clonagem de WhatsApp: não compartilhe códigos recebidos por SMS.​   12. Gerenciamento de Dados Pessoais Como alterar dados cadastrais​ Dados como telefone, e-mail, endereço e profissão podem ser atualizados no app em “Minha conta” > “Dados pessoais”. Alterações sensíveis, como nome e CPF, exigem envio de documentação. Exclusão de conta​ A exclusão pode ser solicitada no menu “Encerramento de conta” ou pelo atendimento. Após a solicitação, o banco inicia um processo que pode levar até 10 dias úteis. Durante esse período, o cliente deve estar com a conta zerada.\n",
      "Mais informações estão na seção “Acessibilidade” do site. 14. Encerramento de Conta Como solicitar encerramento​ O encerramento pode ser solicitado no app em “Minha conta” > “Encerramento”. Também é\n",
      "Pergunta: Como faço para abrir uma conta?\n",
      "Resposta:<end_of_turn>\n",
      "<start_of_turn>model\n",
      "Para abrir uma conta no banco digital, siga estes passos:\n",
      "\n",
      "1. **Baixe o aplicativo ou acesse o site oficial.**\n",
      "2. **Informe dados pessoais (nome, CPF, e-mail, telefone).**\n",
      "3. **Envie foto de documento oficial com foto.**\n",
      "4. **Grave um vídeo de reconhecimento facial.**\n",
      "5. **Confirme seu endereço e aceite os termos de uso.** \n",
      "<end_of_turn>\n"
     ]
    }
   ],
   "source": [
    "decoded_llm_output = tokenizer.decode(llm_output[0])\n",
    "print(decoded_llm_output)"
   ]
  },
  {
   "cell_type": "code",
   "execution_count": 45,
   "id": "5eaa8bbc",
   "metadata": {},
   "outputs": [
    {
     "name": "stdout",
     "output_type": "stream",
     "text": [
      "Para abrir uma conta no banco digital, siga estes passos:\n",
      "\n",
      "1. **Baixe o aplicativo ou acesse o site oficial.**\n",
      "2. **Informe dados pessoais (nome, CPF, e-mail, telefone).**\n",
      "3. **Envie foto de documento oficial com foto.**\n",
      "4. **Grave um vídeo de reconhecimento facial.**\n",
      "5. **Confirme seu endereço e aceite os termos de uso.**\n"
     ]
    }
   ],
   "source": [
    "filtered_llm_response = decoded_llm_output.split(\"<start_of_turn>model\")[1].replace(\"<end_of_turn>\", \"\").strip()\n",
    "print(filtered_llm_response)"
   ]
  }
 ],
 "metadata": {
  "kernelspec": {
   "display_name": ".venv",
   "language": "python",
   "name": "python3"
  },
  "language_info": {
   "codemirror_mode": {
    "name": "ipython",
    "version": 3
   },
   "file_extension": ".py",
   "mimetype": "text/x-python",
   "name": "python",
   "nbconvert_exporter": "python",
   "pygments_lexer": "ipython3",
   "version": "3.13.5"
  }
 },
 "nbformat": 4,
 "nbformat_minor": 5
}
